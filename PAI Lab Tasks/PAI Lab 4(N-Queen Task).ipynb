{
 "cells": [
  {
   "cell_type": "code",
   "execution_count": 7,
   "id": "e2005341-ff6c-48b7-9891-057520dff3f8",
   "metadata": {},
   "outputs": [
    {
     "name": "stdin",
     "output_type": "stream",
     "text": [
      "Enter Board Size:  8\n"
     ]
    },
    {
     "name": "stdout",
     "output_type": "stream",
     "text": [
      "Max 8 Queens on a 8x8 Board can be Placed.\n",
      "Q . . . . . . . \n",
      ". . . . . . Q . \n",
      ". . . . Q . . . \n",
      ". . . . . . . Q \n",
      ". Q . . . . . . \n",
      ". . . Q . . . . \n",
      ". . . . . Q . . \n",
      ". . Q . . . . . \n"
     ]
    }
   ],
   "source": [
    "\n",
    "def Safe(Board, R, C, N):\n",
    "    for i in range(C):\n",
    "        if Board[R][i] == 1:\n",
    "            return False\n",
    "    for i, j in zip(range(R, -1, -1), range(C, -1, -1)):\n",
    "        if Board[i][j] == 1:\n",
    "            return False\n",
    "    for i, j in zip(range(R, N, 1), range(C, -1, -1)):\n",
    "        if Board[i][j] == 1:\n",
    "            return False\n",
    "    return True  \n",
    "\n",
    "def SolveQ(Board, C, N):\n",
    "    if C == N:  \n",
    "        return True\n",
    "    for R in range(N):\n",
    "        if Safe(Board, R, C, N):\n",
    "            Board[R][C] = 1  \n",
    "            if SolveQ(Board, C + 1, N): \n",
    "                return True\n",
    "            Board[R][C] = 0  \n",
    "    return False \n",
    "\n",
    "def nQueens(N):\n",
    "    Board = [[0] * N for _ in range(N)]\n",
    "    if SolveQ(Board, 0, N):\n",
    "        print(f\"Max {N} Queens on a {N}x{N} Board can be Placed.\")\n",
    "        for R in Board:\n",
    "            for i in R:\n",
    "                if i == 1:\n",
    "                    print(\"Q\", end=\" \")\n",
    "                else:\n",
    "                    print(\".\", end=\" \")\n",
    "            print()\n",
    "    else:\n",
    "        print(\"No Solution.\")\n",
    "\n",
    "N = int(input(\"Enter Board Size: \"))\n",
    "nQueens(N)"
   ]
  },
  {
   "cell_type": "code",
   "execution_count": null,
   "id": "4aea6462-8ebc-48d9-b7ed-a30bc3f5c415",
   "metadata": {},
   "outputs": [],
   "source": []
  }
 ],
 "metadata": {
  "kernelspec": {
   "display_name": "Python 3 (ipykernel)",
   "language": "python",
   "name": "python3"
  },
  "language_info": {
   "codemirror_mode": {
    "name": "ipython",
    "version": 3
   },
   "file_extension": ".py",
   "mimetype": "text/x-python",
   "name": "python",
   "nbconvert_exporter": "python",
   "pygments_lexer": "ipython3",
   "version": "3.12.4"
  }
 },
 "nbformat": 4,
 "nbformat_minor": 5
}
