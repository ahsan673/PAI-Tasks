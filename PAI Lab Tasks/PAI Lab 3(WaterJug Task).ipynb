{
 "cells": [
  {
   "cell_type": "code",
   "execution_count": 3,
   "id": "0e299d37-f494-40ea-97b4-49cddcc72d95",
   "metadata": {},
   "outputs": [
    {
     "name": "stdout",
     "output_type": "stream",
     "text": [
      "Solution was Found\n",
      "(0, 0)\n",
      "(0, 3)\n",
      "(3, 0)\n",
      "(3, 3)\n",
      "(6, 0)\n",
      "(6, 3)\n",
      "(7, 2)\n",
      "(0, 2)\n",
      "(2, 0)\n",
      "(2, 3)\n",
      "(5, 0)\n"
     ]
    }
   ],
   "source": [
    "\n",
    "def WaterJugDFS(C1, C2, g):\n",
    "    x = [(0, 0)]\n",
    "    y = set()\n",
    "    y.add((0, 0))\n",
    "    \n",
    "    a = []\n",
    "\n",
    "    while x:\n",
    "        J1, J2= x.pop()\n",
    "        a.append((J1, J2))\n",
    "        \n",
    "        if J1== g or J2== g:\n",
    "            print(\"Solution was Found\")\n",
    "            for act in a:\n",
    "                print(act)\n",
    "            return \n",
    "\n",
    "        r = [(C1, J2),\n",
    "            (J1, C2),\n",
    "            (0, J2),\n",
    "            (J1, 0),\n",
    "            (J1 - min(J1, C2 - J2), J2 + min(J1, C2 - J2)),\n",
    "            (J1 + min(J2, C1 - J1), J2 - min(J2, C1 - J1)),\n",
    "            (min(J1 + J2, C1), 0),\n",
    "            (0, min(J1 + J2, C2))]\n",
    "\n",
    "        for state in r:\n",
    "            if state not in y:\n",
    "                y.add(state)\n",
    "                x.append(state)\n",
    "\n",
    "    print(\"Solution was not Found\")\n",
    "    return \n",
    "\n",
    "jug1Cap= 7\n",
    "jug2Cap= 3\n",
    "target= 5\n",
    "\n",
    "WaterJugDFS(jug1Cap, jug2Cap, target)"
   ]
  },
  {
   "cell_type": "code",
   "execution_count": null,
   "id": "6313b5c8-cfa8-415e-b14a-67c47df9303b",
   "metadata": {},
   "outputs": [],
   "source": []
  }
 ],
 "metadata": {
  "kernelspec": {
   "display_name": "Python 3 (ipykernel)",
   "language": "python",
   "name": "python3"
  },
  "language_info": {
   "codemirror_mode": {
    "name": "ipython",
    "version": 3
   },
   "file_extension": ".py",
   "mimetype": "text/x-python",
   "name": "python",
   "nbconvert_exporter": "python",
   "pygments_lexer": "ipython3",
   "version": "3.12.4"
  }
 },
 "nbformat": 4,
 "nbformat_minor": 5
}
